{
 "cells": [
  {
   "cell_type": "code",
   "execution_count": 25,
   "id": "343165fe-0f1c-4ee7-b842-d48c882563de",
   "metadata": {},
   "outputs": [
    {
     "name": "stdout",
     "output_type": "stream",
     "text": [
      "       City        Date  AQI  PM2.5  PM10        NO2        CO          O3  \\\n",
      "0     Delhi  2024-01-01  152    153   151  26.509131  1.581413  123.401530   \n",
      "1     Delhi  2024-01-02  264    288   268  87.955853  1.242119  144.533790   \n",
      "2     Delhi  2024-01-03  307    344   357  94.469744  0.101480  198.520196   \n",
      "3     Delhi  2024-01-04  363    334   347  12.075618  1.097072   85.973585   \n",
      "4     Delhi  2024-01-05  237    266   250  51.046299  1.591834   47.938019   \n",
      "...     ...         ...  ...    ...   ...        ...       ...         ...   \n",
      "2557   Pune  2024-12-27  419    448   462  26.701714  1.553582   86.973954   \n",
      "2558   Pune  2024-12-28  252    202   182  19.920962  1.599821   41.939484   \n",
      "2559   Pune  2024-12-29  365    414   410  80.815702  1.919950   39.982167   \n",
      "2560   Pune  2024-12-30  253    269   285  66.231614  0.611800   63.966705   \n",
      "2561   Pune  2024-12-31   95    140   117  99.505459  0.122817  112.774765   \n",
      "\n",
      "            SO2  \n",
      "0     25.062474  \n",
      "1      5.926302  \n",
      "2     32.786668  \n",
      "3      7.099955  \n",
      "4     28.140550  \n",
      "...         ...  \n",
      "2557  44.263423  \n",
      "2558  20.545087  \n",
      "2559  22.646297  \n",
      "2560  10.580135  \n",
      "2561  30.814997  \n",
      "\n",
      "[2562 rows x 9 columns]\n"
     ]
    }
   ],
   "source": [
    "import pandas as pd\n",
    "import numpy as np\n",
    "df=pd.read_csv(\"C:\\\\Users\\\\graml\\\\OneDrive\\\\Desktop\\\\Deependra 2023UG1029 Python\\\\AQI_Data.csv\")\n",
    "print(df)\n",
    "# Acccessing the csv file"
   ]
  },
  {
   "cell_type": "code",
   "execution_count": 4,
   "id": "22e241e9-f766-4322-92f6-782fbe905a6c",
   "metadata": {},
   "outputs": [
    {
     "name": "stdout",
     "output_type": "stream",
     "text": [
      "    City        Date  AQI  PM2.5  PM10        NO2        CO          O3  \\\n",
      "0  Delhi  2024-01-01  152    153   151  26.509131  1.581413  123.401530   \n",
      "1  Delhi  2024-01-02  264    288   268  87.955853  1.242119  144.533790   \n",
      "2  Delhi  2024-01-03  307    344   357  94.469744  0.101480  198.520196   \n",
      "3  Delhi  2024-01-04  363    334   347  12.075618  1.097072   85.973585   \n",
      "4  Delhi  2024-01-05  237    266   250  51.046299  1.591834   47.938019   \n",
      "\n",
      "         SO2  \n",
      "0  25.062474  \n",
      "1   5.926302  \n",
      "2  32.786668  \n",
      "3   7.099955  \n",
      "4  28.140550  \n"
     ]
    }
   ],
   "source": [
    "# disolay first five rows\n",
    "import pandas as pd\n",
    "import numpy as np\n",
    "df=pd.read_csv(\"C:\\\\Users\\\\graml\\\\OneDrive\\\\Desktop\\\\Deependra 2023UG1029 Python\\\\AQI_Data.csv\")\n",
    "print(df.head(5))"
   ]
  },
  {
   "cell_type": "code",
   "execution_count": 5,
   "id": "fe18a0ee-8c42-4835-b4aa-f9da8d4ea64a",
   "metadata": {},
   "outputs": [
    {
     "name": "stdout",
     "output_type": "stream",
     "text": [
      "      City        Date  AQI  PM2.5  PM10        NO2        CO          O3  \\\n",
      "2557  Pune  2024-12-27  419    448   462  26.701714  1.553582   86.973954   \n",
      "2558  Pune  2024-12-28  252    202   182  19.920962  1.599821   41.939484   \n",
      "2559  Pune  2024-12-29  365    414   410  80.815702  1.919950   39.982167   \n",
      "2560  Pune  2024-12-30  253    269   285  66.231614  0.611800   63.966705   \n",
      "2561  Pune  2024-12-31   95    140   117  99.505459  0.122817  112.774765   \n",
      "\n",
      "            SO2  \n",
      "2557  44.263423  \n",
      "2558  20.545087  \n",
      "2559  22.646297  \n",
      "2560  10.580135  \n",
      "2561  30.814997  \n"
     ]
    }
   ],
   "source": [
    "# display the last 6 row \n",
    "import pandas as pd\n",
    "import numpy as np\n",
    "df=pd.read_csv(\"C:\\\\Users\\\\graml\\\\OneDrive\\\\Desktop\\\\Deependra 2023UG1029 Python\\\\AQI_Data.csv\")\n",
    "print(df.tail(6))"
   ]
  },
  {
   "cell_type": "code",
   "execution_count": 9,
   "id": "20f09dc8-7646-41d7-ab2f-d17602557079",
   "metadata": {},
   "outputs": [
    {
     "name": "stdout",
     "output_type": "stream",
     "text": [
      "277.6350507416081\n"
     ]
    }
   ],
   "source": [
    "# mean for AQI\n",
    "city=df[\"city\"]\n",
    "city_grouped=np.unique(df[\"city\"])\n",
    "AQI=df[\"AQI\"]\n",
    "grouped_data={category:AQI[city==category].mean()for category in city_grouped}\n",
    "average(grouped_data.key=grouped.data.get}"
   ]
  },
  {
   "cell_type": "code",
   "execution_count": 7,
   "id": "c5cdd753-4b4c-44fd-9c4a-f32868e776ca",
   "metadata": {},
   "outputs": [
    {
     "name": "stdout",
     "output_type": "stream",
     "text": [
      "               AQI        PM2.5         PM10          NO2           CO  \\\n",
      "count  2562.000000  2562.000000  2562.000000  2562.000000  2562.000000   \n",
      "mean    277.635051   276.738486   275.988290    54.151115     1.037476   \n",
      "std     128.603738   131.015126   131.900856    25.744072     0.560294   \n",
      "min      50.000000     2.000000   -26.000000    10.036926     0.100100   \n",
      "25%     166.250000   165.000000   166.000000    32.025372     0.545341   \n",
      "50%     276.000000   274.500000   274.000000    53.606459     1.010095   \n",
      "75%     388.750000   388.000000   386.000000    76.322683     1.533300   \n",
      "max     499.000000   543.000000   559.000000    99.974242     1.999528   \n",
      "\n",
      "                O3          SO2  \n",
      "count  2562.000000  2562.000000  \n",
      "mean    104.832673    27.746349  \n",
      "std      54.878784    12.927527  \n",
      "min      10.045129     5.000524  \n",
      "25%      58.169877    16.685076  \n",
      "50%     104.345545    27.872017  \n",
      "75%     152.515574    38.878445  \n",
      "max     199.979607    49.976055  \n"
     ]
    }
   ],
   "source": [
    "# To get Summary Statisctics\n",
    "print(df.describe())"
   ]
  },
  {
   "cell_type": "code",
   "execution_count": 10,
   "id": "012d1986-6ef4-4cfd-bcd7-7d432cce79c6",
   "metadata": {},
   "outputs": [
    {
     "name": "stdout",
     "output_type": "stream",
     "text": [
      "276.73848555815766\n"
     ]
    }
   ],
   "source": [
    "# for PM2.5\n",
    "AQI = df[\"PM2.5\"]\n",
    "grouped_data = {category: AQI[city == category].mean() for category in city_grouped}\n",
    "print(grouped_data)"
   ]
  },
  {
   "cell_type": "code",
   "execution_count": 32,
   "id": "cbeff3a6-1088-4b06-9d1f-50ef5e0cc679",
   "metadata": {},
   "outputs": [
    {
     "name": "stdout",
     "output_type": "stream",
     "text": [
      "{'Bangalore': np.float64(279.54371584699453), 'Chennai': np.float64(274.3142076502732), 'Delhi': np.float64(279.1530054644809), 'Hyderabad': np.float64(280.3551912568306), 'Kolkata': np.float64(265.9016393442623), 'Mumbai': np.float64(287.7978142076503), 'Pune': np.float64(276.379781420765)}\n"
     ]
    }
   ],
   "source": [
    "# Grouping Of Data according to the city with their mean\n",
    "city = df[\"City\"]\n",
    "city_grouped  =  np.unique(df[\"City\"])\n",
    "AQI = df[\"AQI\"]\n",
    "grouped_data = {category: AQI[city == category].mean() for category in city_grouped}\n",
    "print(grouped_data)"
   ]
  },
  {
   "cell_type": "code",
   "execution_count": 33,
   "id": "d5bde269-afc0-4b29-9d2a-38f6c5af4958",
   "metadata": {},
   "outputs": [
    {
     "name": "stdout",
     "output_type": "stream",
     "text": [
      "{'Bangalore': np.float64(277.75956284153006), 'Chennai': np.float64(273.26502732240436), 'Delhi': np.float64(279.3497267759563), 'Hyderabad': np.float64(276.45628415300547), 'Kolkata': np.float64(263.6448087431694), 'Mumbai': np.float64(286.6693989071038), 'Pune': np.float64(274.77322404371586)}\n"
     ]
    }
   ],
   "source": [
    "# for PM10\n",
    "AQI = df[\"PM10\"]\n",
    "grouped_data = {category: AQI[city == category].mean() for category in city_grouped}\n",
    "print(grouped_data)"
   ]
  },
  {
   "cell_type": "code",
   "execution_count": 29,
   "id": "0c53f0d3-e70e-46d2-bed3-1cdbce1a9af5",
   "metadata": {},
   "outputs": [],
   "source": [
    "# Maximum of PM10 Level\n",
    "city=df[\"city\"]\n",
    "city_grouped=np.unique(df[\"city\"])\n",
    "AQI=df[\"AQI\"]\n",
    "grouped_data={category:AQI[city==category].mean()for category in city_grouped}\n",
    "max(grouped_data.key=grouped.data.get}"
   ]
  },
  {
   "cell_type": "code",
   "execution_count": 14,
   "id": "b09ba5c2-19c0-4f02-8adc-ecd0429f5b73",
   "metadata": {},
   "outputs": [
    {
     "name": "stdout",
     "output_type": "stream",
     "text": [
      "277.6350507416081\n"
     ]
    }
   ],
   "source": [
    "# average AQI\n",
    "city=df[\"city\"]\n",
    "city_grouped=np.unique(df[\"city\"])\n",
    "AQI=df[\"AQI\"]\n",
    "grouped_data={category:AQI[city==category].mean()for category in city_grouped}\n",
    "average(grouped_data.key=grouped.data.get}"
   ]
  },
  {
   "cell_type": "code",
   "execution_count": 31,
   "id": "8b53cac5-8cc2-474b-a964-01ce00c4cb43",
   "metadata": {
    "scrolled": true
   },
   "outputs": [
    {
     "name": "stdout",
     "output_type": "stream",
     "text": [
      "{'Bangalore': np.float64(279.54371584699453), 'Chennai': np.float64(274.3142076502732), 'Delhi': np.float64(279.1530054644809), 'Hyderabad': np.float64(280.3551912568306), 'Kolkata': np.float64(265.9016393442623), 'Mumbai': np.float64(287.7978142076503), 'Pune': np.float64(276.379781420765)}\n"
     ]
    }
   ],
   "source": []
  },
  {
   "cell_type": "code",
   "execution_count": 37,
   "id": "2ba1a639-09bf-4061-801c-ec1ce754dfb9",
   "metadata": {},
   "outputs": [],
   "source": [
    "#creating a csv file \n",
    "# df = pd.DataFrame(grouped_data)\n",
    "df.to_csv('output_data.csv')\n",
    "# Created a New Csv file"
   ]
  },
  {
   "cell_type": "code",
   "execution_count": 41,
   "id": "1b911bfa-4db6-40fb-ba67-22bf86cebe0b",
   "metadata": {
    "scrolled": true
   },
   "outputs": [
    {
     "data": {
      "text/plain": [
       "'C:\\\\Users\\\\graml'"
      ]
     },
     "execution_count": 41,
     "metadata": {},
     "output_type": "execute_result"
    }
   ],
   "source": [
    "import os\n",
    "os.getcwd()"
   ]
  },
  {
   "cell_type": "code",
   "execution_count": null,
   "id": "049871f2-0158-41f2-b576-1108bf568c21",
   "metadata": {},
   "outputs": [],
   "source": []
  }
 ],
 "metadata": {
  "kernelspec": {
   "display_name": "Python 3 (ipykernel)",
   "language": "python",
   "name": "python3"
  },
  "language_info": {
   "codemirror_mode": {
    "name": "ipython",
    "version": 3
   },
   "file_extension": ".py",
   "mimetype": "text/x-python",
   "name": "python",
   "nbconvert_exporter": "python",
   "pygments_lexer": "ipython3",
   "version": "3.12.6"
  }
 },
 "nbformat": 4,
 "nbformat_minor": 5
}
